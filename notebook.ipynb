{
 "cells": [
  {
   "cell_type": "markdown",
   "metadata": {},
   "source": [
    "# Testing different functions and implementations\n",
    "___\n",
    "1. Euclidean distance implementation\n",
    "2. Manhattan distance implementation\n",
    "3. Testing KNN classification with leave-one-out cross-validation using SKLEARN"
   ]
  },
  {
   "cell_type": "code",
   "execution_count": 1,
   "metadata": {},
   "outputs": [],
   "source": [
    "# imports\n",
    "import numpy as np\n",
    "from scipy.io import arff\n",
    "import pandas as pd\n",
    "from sklearn.neighbors import KNeighborsClassifier, KNeighborsRegressor\n",
    "from sklearn.model_selection import LeaveOneOut\n",
    "from sklearn.preprocessing import StandardScaler\n",
    "from sklearn.preprocessing import MinMaxScaler\n",
    "import matplotlib.pyplot as plt"
   ]
  },
  {
   "cell_type": "code",
   "execution_count": 9,
   "metadata": {},
   "outputs": [
    {
     "name": "stdout",
     "output_type": "stream",
     "text": [
      "(351, 34)\n",
      "(351,)\n"
     ]
    }
   ],
   "source": [
    "# dataset\n",
    "dataset = arff.loadarff('ionosphere.arff')\n",
    "dataset = pd.DataFrame(dataset[0])\n",
    "dataset = dataset.to_numpy()\n",
    "X = dataset[:, :-1].astype(np.float64) # cast datatype from 'float' to 'np.float64' (seems to be faster)\n",
    "y = dataset[:, -1]\n",
    "labels, y = np.unique(y, return_inverse=True) # map labels to ints (labels[0] -> 0, labels[1] -> 1)\n",
    "print(X.shape)\n",
    "print(y.shape)\n",
    "del dataset"
   ]
  },
  {
   "cell_type": "markdown",
   "metadata": {},
   "source": [
    "## Testing Euclidean distance implementation\n",
    "___\n",
    "Conclusion: euclidean3() seems to be best. BUT if we calculate the distances with matrix operations it will be much faster."
   ]
  },
  {
   "cell_type": "code",
   "execution_count": 20,
   "metadata": {},
   "outputs": [],
   "source": [
    "# Euclidean functions\n",
    "def euclidean1(x1, x2):\n",
    "    diff = x2 - x1\n",
    "    return np.sqrt(np.sum((diff)**2))\n",
    "\n",
    "def euclidean2(x1, x2):\n",
    "    diff = x2 - x1\n",
    "    return np.sqrt(np.sum(np.square(diff)))\n",
    "\n",
    "def euclidean3(x1, x2):\n",
    "    diff = x2 - x1\n",
    "    return np.sqrt(np.dot(diff, diff))\n",
    "\n",
    "def euclidean4(x1, x2):\n",
    "    diff = x2 - x1\n",
    "    return np.sqrt(np.inner(diff, diff))\n",
    "\n",
    "def euclidean5(x1, x2):\n",
    "    diff = x2 - x1\n",
    "    return np.sqrt(np.einsum('i,i->', diff, diff))\n",
    "\n",
    "# Output of functions\n",
    "n = X.shape[0] # number of examples\n",
    "x1 = X[np.random.randint(0, n)] # random example\n",
    "x2 = X[np.random.randint(0, n)] # random example"
   ]
  },
  {
   "cell_type": "code",
   "execution_count": 5,
   "metadata": {},
   "outputs": [
    {
     "name": "stdout",
     "output_type": "stream",
     "text": [
      "np.linalg.norm(): 5.92 µs ± 326 ns per loop (mean ± std. dev. of 7 runs, 100000 loops each)\n",
      "euclidean1: 7.8 µs ± 407 ns per loop (mean ± std. dev. of 7 runs, 100000 loops each)\n",
      "euclidean2: 7.24 µs ± 444 ns per loop (mean ± std. dev. of 7 runs, 100000 loops each)\n",
      "euclidean3: 3.96 µs ± 263 ns per loop (mean ± std. dev. of 7 runs, 100000 loops each)\n",
      "euclidean4: 4.21 µs ± 327 ns per loop (mean ± std. dev. of 7 runs, 100000 loops each)\n",
      "euclidean5: 5.39 µs ± 246 ns per loop (mean ± std. dev. of 7 runs, 100000 loops each)\n"
     ]
    }
   ],
   "source": [
    "# Testing the runtime for different implementations of the Euclidean distance function\n",
    "print('np.linalg.norm(): ', end='')\n",
    "%timeit diff = x2 - x1; np.linalg.norm(diff)\n",
    "print('euclidean1: ', end='')\n",
    "%timeit euclidean1(x2, x1)\n",
    "print('euclidean2: ', end='')\n",
    "%timeit euclidean2(x2, x1)\n",
    "print('euclidean3: ', end='')\n",
    "%timeit euclidean3(x2, x1)\n",
    "print('euclidean4: ', end='')\n",
    "%timeit euclidean4(x2, x1)\n",
    "print('euclidean5: ', end='')\n",
    "%timeit euclidean5(x2, x1)"
   ]
  },
  {
   "cell_type": "markdown",
   "metadata": {},
   "source": [
    "## Testing Manhattan distance implementation\n",
    "___\n",
    "Conclusion: Not many other ways/functions to use to implement manhattan distance."
   ]
  },
  {
   "cell_type": "code",
   "execution_count": 6,
   "metadata": {},
   "outputs": [],
   "source": [
    "def manhattan(x1, x2):\n",
    "    return np.sum(np.abs(x2 - x1))"
   ]
  },
  {
   "cell_type": "code",
   "execution_count": 7,
   "metadata": {},
   "outputs": [
    {
     "name": "stdout",
     "output_type": "stream",
     "text": [
      "6.71 µs ± 402 ns per loop (mean ± std. dev. of 7 runs, 100000 loops each)\n",
      "5.14 µs ± 392 ns per loop (mean ± std. dev. of 7 runs, 100000 loops each)\n"
     ]
    }
   ],
   "source": [
    "# Test runtime of manhattan distance implementation\n",
    "%timeit diff = x2 - x1; np.linalg.norm(diff, ord=1)\n",
    "%timeit manhattan(x1, x2)"
   ]
  },
  {
   "cell_type": "markdown",
   "metadata": {},
   "source": [
    "## Sklearn KNN Classifier\n",
    "___\n",
    "I think this is how they want us to calculate accuracy. Train on all except 1 example, then predict on that single test example. Repeat for all possible splits. There should be m splits where m is the number of examples in the dataset."
   ]
  },
  {
   "cell_type": "code",
   "execution_count": 164,
   "metadata": {},
   "outputs": [],
   "source": [
    "# No feature scaling\n",
    "def KNNclassifierWithLOO(X, y, k):\n",
    "    # Leave one out cross-validation\n",
    "    loo = LeaveOneOut()\n",
    "    loo.get_n_splits(X)\n",
    "\n",
    "    # KNN classifier\n",
    "    correct_count = 0;\n",
    "    total_count = y.shape[0];\n",
    "    classifier = KNeighborsClassifier(n_neighbors = k)\n",
    "\n",
    "    # Train on each split and predict on the single test example\n",
    "    for train_index, test_index in loo.split(X):\n",
    "        X_train = X[train_index]\n",
    "        X_test = X[test_index]\n",
    "        y_train = y[train_index]\n",
    "        y_test = y[test_index]\n",
    "        classifier.fit(X_train, y_train)\n",
    "        y_pred = classifier.predict(X_test)\n",
    "        if y_pred == y_test:\n",
    "            correct_count += 1\n",
    "\n",
    "    #print(correct_count, 'out of', total_count, 'correctly classified')\n",
    "    #print('accuracy:', correct_count / total_count)\n",
    "    return correct_count / total_count"
   ]
  },
  {
   "cell_type": "code",
   "execution_count": 165,
   "metadata": {},
   "outputs": [
    {
     "name": "stdout",
     "output_type": "stream",
     "text": [
      "accuracy: 0.8490028490028491\n"
     ]
    }
   ],
   "source": [
    "accuracy = KNNclassifierWithLOO(X, y, 3) # 3 nearest neighbours\n",
    "print('accuracy:', accuracy)"
   ]
  },
  {
   "cell_type": "code",
   "execution_count": 166,
   "metadata": {},
   "outputs": [
    {
     "name": "stdout",
     "output_type": "stream",
     "text": [
      "371 ms ± 12.4 ms per loop (mean ± std. dev. of 7 runs, 1 loop each)\n"
     ]
    }
   ],
   "source": [
    "%timeit KNNclassifierWithLOO(X, y, 3)"
   ]
  },
  {
   "cell_type": "code",
   "execution_count": 167,
   "metadata": {},
   "outputs": [],
   "source": [
    "# With standard scaler\n",
    "def KNNclassifierWithLOOandStandardScaler(X, y, k):\n",
    "    # Leave one out cross-validation\n",
    "    loo = LeaveOneOut()\n",
    "    loo.get_n_splits(X)\n",
    "\n",
    "    # KNN classifier\n",
    "    correct_count = 0;\n",
    "    total_count = y.shape[0];\n",
    "    classifier = KNeighborsClassifier(n_neighbors = k)\n",
    "    scaler = StandardScaler()\n",
    "\n",
    "    # Train on each split and predict on the single test example\n",
    "    for train_index, test_index in loo.split(X):\n",
    "        X_train = X[train_index]\n",
    "        X_test = X[test_index]\n",
    "        y_train = y[train_index]\n",
    "        y_test = y[test_index]\n",
    "        X_train = scaler.fit_transform(X_train)\n",
    "        X_test = scaler.transform(X_test)\n",
    "        classifier.fit(X_train, y_train)\n",
    "        y_pred = classifier.predict(X_test)\n",
    "        if y_pred == y_test:\n",
    "            correct_count += 1\n",
    "\n",
    "    #print(correct_count, 'out of', total_count, 'correctly classified')\n",
    "    #print('accuracy:', correct_count / total_count)\n",
    "    return correct_count / total_count"
   ]
  },
  {
   "cell_type": "code",
   "execution_count": 168,
   "metadata": {},
   "outputs": [
    {
     "name": "stdout",
     "output_type": "stream",
     "text": [
      "accuracy: 0.8461538461538461\n"
     ]
    }
   ],
   "source": [
    "accuracy = KNNclassifierWithLOOandStandardScaler(X, y, 3)\n",
    "print('accuracy:', accuracy)"
   ]
  },
  {
   "cell_type": "code",
   "execution_count": 169,
   "metadata": {},
   "outputs": [],
   "source": [
    "# With min max scaler\n",
    "def KNNclassifierWithLOOandMinMaxScaler(X, y, k):\n",
    "    # Leave one out cross-validation\n",
    "    loo = LeaveOneOut()\n",
    "    loo.get_n_splits(X)\n",
    "\n",
    "    # KNN classifier\n",
    "    correct_count = 0;\n",
    "    total_count = y.shape[0];\n",
    "    classifier = KNeighborsClassifier(n_neighbors = k)\n",
    "    scaler = MinMaxScaler()\n",
    "\n",
    "    # Train on each split and predict on the single test example\n",
    "    for train_index, test_index in loo.split(X):\n",
    "        X_train = X[train_index]\n",
    "        X_test = X[test_index]\n",
    "        y_train = y[train_index]\n",
    "        y_test = y[test_index]\n",
    "        X_train = scaler.fit_transform(X_train)\n",
    "        X_test = scaler.transform(X_test)\n",
    "        classifier.fit(X_train, y_train)\n",
    "        y_pred = classifier.predict(X_test)\n",
    "        if y_pred == y_test:\n",
    "            correct_count += 1\n",
    "\n",
    "    #print(correct_count, 'out of', total_count, 'correctly classified')\n",
    "    #print('accuracy:', correct_count / total_count)\n",
    "    return correct_count / total_count"
   ]
  },
  {
   "cell_type": "code",
   "execution_count": 170,
   "metadata": {},
   "outputs": [
    {
     "name": "stdout",
     "output_type": "stream",
     "text": [
      "accuracy: 0.8603988603988604\n"
     ]
    }
   ],
   "source": [
    "accuracy = KNNclassifierWithLOOandMinMaxScaler(X, y, 3)\n",
    "print('accuracy:', accuracy)"
   ]
  },
  {
   "cell_type": "code",
   "execution_count": 171,
   "metadata": {},
   "outputs": [
    {
     "data": {
      "image/png": "[encoded data removed]",
      "text/plain": [
       "<Figure size 432x288 with 1 Axes>"
      ]
     },
     "metadata": {
      "needs_background": "light"
     },
     "output_type": "display_data"
    }
   ],
   "source": [
    "n_neighbours = [1, 3, 5, 7, 9, 11, 13, 15]\n",
    "acc1 = []\n",
    "acc2 = []\n",
    "acc3 = []\n",
    "\n",
    "for k in n_neighbours:\n",
    "    acc1.append(KNNclassifierWithLOO(X, y, k))\n",
    "    acc2.append(KNNclassifierWithLOOandStandardScaler(X, y, k))\n",
    "    acc3.append(KNNclassifierWithLOOandMinMaxScaler(X, y, k))\n",
    "\n",
    "plt.plot(n_neighbours, acc1, 'r-', label='No scaling')\n",
    "plt.plot(n_neighbours, acc2, 'b-', label='Standard scaler')\n",
    "plt.plot(n_neighbours, acc3, 'g-', label='MinMax scaler')\n",
    "plt.xlabel('k')\n",
    "plt.ylabel('accuracy')\n",
    "plt.xticks(n_neighbours)\n",
    "plt.title('Comparison of feature scalers')\n",
    "plt.legend()\n",
    "plt.show()"
   ]
  },
  {
   "cell_type": "markdown",
   "metadata": {},
   "source": [
    "# Simple KNN Classifier (without LOO)\n",
    "___\n",
    "Reusing code from our KNN_Class with some changes.\n",
    "\n",
    "ANALYSIS: Time complexity, fitting time, prediction time."
   ]
  },
  {
   "cell_type": "code",
   "execution_count": 257,
   "metadata": {},
   "outputs": [],
   "source": [
    "import numpy as np\n",
    "from heapq import heappush, heappop\n",
    "\n",
    "def euclidean(x1, x2):\n",
    "    diff = x2 - x1\n",
    "    return np.sqrt(np.dot(diff, diff))"
   ]
  },
  {
   "cell_type": "code",
   "execution_count": 300,
   "metadata": {},
   "outputs": [],
   "source": [
    "# No fitting. All time spent on prediction.\n",
    "class SimpleKNNClassifier:\n",
    "    def __init__(self, n_neighbours, dist_metric='euclidean'):\n",
    "        assert(dist_metric == 'euclidean' or dist_metric=='manhattan')\n",
    "        self.n_neighbours = n_neighbours\n",
    "        if dist_metric == 'euclidean':\n",
    "            self.dist_metric = euclidean\n",
    "        else:\n",
    "            self.dist_metric = manhattan\n",
    "    \n",
    "    def fit(self, X_train, y_train):\n",
    "        self.X_train = X_train\n",
    "        self.y_train = y_train\n",
    "    \n",
    "    def predict_single1(self, x): # Does not take advantage of matrix operations\n",
    "        n = self.X_train.shape[0] # number of training examples\n",
    "        pairs = [] # list of (distance, label) pairs\n",
    "        for i in range(n):\n",
    "            pairs.append((self.dist_metric(self.X_train[i], x), self.y_train[i]))\n",
    "        pairs.sort(key = lambda pair: pair[0])\n",
    "        nearest = [pair[1] for pair in pairs[:self.n_neighbours]] # get labels of nearest neighbours\n",
    "        return max(set(nearest), key=nearest.count)\n",
    " \n",
    "    def predict_single2(self, x): # Does not take advantage of matrix operations but uses heap\n",
    "        n = self.X_train.shape[0] # number of training examples\n",
    "        pairs = [] # list of (distance, label) pairs\n",
    "        for i in range(n):\n",
    "            heappush(pairs, (self.dist_metric(self.X_train[i], x), self.y_train[i]))\n",
    "        nearest = []\n",
    "        for i in range(self.n_neighbours):\n",
    "            nearest.append(heappop(pairs)[1])\n",
    "        return max(set(nearest), key=nearest.count)\n",
    "\n",
    "    def predict_single3(self, x): # Takes advantage of matrix operations\n",
    "        diff = self.X_train - x\n",
    "        distances = np.sqrt(np.sum(np.square(diff, diff), axis=1))\n",
    "        pairs = np.stack([distances, self.y_train], axis=1) # distance and label\n",
    "        pairs = pairs[pairs[:, 0].argsort()] # sort by distance\n",
    "        nearest = pairs[:self.n_neighbours, 1].astype('int64') # label of nearest neighbours\n",
    "        return np.bincount(nearest).argmax()\n",
    "    \n",
    "    def predict_single4(self, x): # Takes advantage of matrix operations and uses heap\n",
    "        diff = self.X_train - x\n",
    "        distances = np.sqrt(np.sum(np.square(diff, diff), axis=1))\n",
    "        pairs = np.stack([distances, self.y_train], axis=1) # distance and label\n",
    "        pairs = pairs.tolist() # convert to list for heap ops\n",
    "        nearest = []\n",
    "        ordered = []\n",
    "        for pair in pairs: # have to push all pairs to a heap\n",
    "            heappush(ordered, pair)\n",
    "        for i in range(self.n_neighbours): # and then pop them\n",
    "            nearest.append(int(heappop(ordered)[1]))\n",
    "        return max(set(nearest), key=nearest.count)\n",
    "    \n",
    "\n",
    "    def predict1(self, X_test): # NO matrix ops\n",
    "        y_pred = []\n",
    "        for x in X_test:\n",
    "            y_pred.append(self.predict_single1(x))\n",
    "        return np.asarray(y_pred)\n",
    "    \n",
    "    def predict2(self, X_test): # NO matrix ops uses heap\n",
    "        y_pred = []\n",
    "        for x in X_test:\n",
    "            y_pred.append(self.predict_single2(x))\n",
    "        return np.asarray(y_pred)\n",
    "    \n",
    "    def predict3(self, X_test): # Matrix ops\n",
    "        y_pred = []\n",
    "        for x in X_test:\n",
    "            y_pred.append(self.predict_single3(x))\n",
    "        return np.asarray(y_pred)           \n",
    "        \n",
    "    def predict4(self, X_test): # Matrix ops\n",
    "        y_pred = []\n",
    "        for x in X_test:\n",
    "            y_pred.append(self.predict_single4(x))\n",
    "        return np.asarray(y_pred)"
   ]
  },
  {
   "cell_type": "code",
   "execution_count": 301,
   "metadata": {},
   "outputs": [
    {
     "name": "stdout",
     "output_type": "stream",
     "text": [
      "[1 0 1 0 0]\n",
      "[1 0 1 0 0]\n",
      "[1 0 1 0 0]\n",
      "[1 0 1 0 0]\n"
     ]
    }
   ],
   "source": [
    "classifier = SimpleKNNClassifier(n_neighbours=3)\n",
    "classifier.fit(X, y)\n",
    "print(classifier.predict4(X_test))\n",
    "print(classifier.predict3(X_test))\n",
    "print(classifier.predict2(X_test))\n",
    "print(classifier.predict1(X_test))"
   ]
  },
  {
   "cell_type": "code",
   "execution_count": 293,
   "metadata": {},
   "outputs": [
    {
     "name": "stdout",
     "output_type": "stream",
     "text": [
      "7.89 ms ± 153 µs per loop (mean ± std. dev. of 7 runs, 100 loops each)\n",
      "8.47 ms ± 295 µs per loop (mean ± std. dev. of 7 runs, 100 loops each)\n",
      "399 µs ± 21.2 µs per loop (mean ± std. dev. of 7 runs, 1000 loops each)\n",
      "755 µs ± 15.4 µs per loop (mean ± std. dev. of 7 runs, 1000 loops each)\n"
     ]
    }
   ],
   "source": [
    "# Testing our naive classifier\n",
    "X_test = X[np.random.randint(X.shape[0], size=5), :]\n",
    "\n",
    "classifier = SimpleKNNClassifier(n_neighbours=3)\n",
    "classifier.fit(X, y)\n",
    "classifier.predict3(X_test)\n",
    "\n",
    "%timeit classifier.predict1(X_test)\n",
    "%timeit classifier.predict2(X_test)\n",
    "%timeit classifier.predict3(X_test)\n",
    "%timeit classifier.predict4(X_test)"
   ]
  },
  {
   "cell_type": "code",
   "execution_count": 181,
   "metadata": {},
   "outputs": [
    {
     "name": "stdout",
     "output_type": "stream",
     "text": [
      "695 µs ± 25.6 µs per loop (mean ± std. dev. of 7 runs, 1000 loops each)\n"
     ]
    }
   ],
   "source": [
    "# Testing sklearn classifier\n",
    "classifiersk = KNeighborsClassifier(n_neighbors = 3)\n",
    "classifiersk.fit(X, y)\n",
    "classifiersk.predict(X_test)\n",
    "\n",
    "%timeit classifiersk.predict(X_test)"
   ]
  },
  {
   "cell_type": "markdown",
   "metadata": {},
   "source": [
    "In the first approach we do not take advantage of matrix operations and we do not use a heap.\n",
    "In the second approach we use a heap.\n",
    "In the third approach we use matrix operations.\n",
    "In the fourth approach we use matrix operations and a heap, however, to use the heap we had to scan through the matrix and push each pair into a heap and then pop them to find the nearest.\n",
    "\n",
    "On this dataset approach 3 is best."
   ]
  },
  {
   "cell_type": "markdown",
   "metadata": {},
   "source": [
    "# Space paritioning Classifier\n",
    "___\n",
    "When it comes to nearest neighbour we have two classes of methods: linear search and space partitioning. So far we have done linear search."
   ]
  },
  {
   "cell_type": "code",
   "execution_count": null,
   "metadata": {},
   "outputs": [],
   "source": []
  },
  {
   "cell_type": "code",
   "execution_count": null,
   "metadata": {},
   "outputs": [],
   "source": []
  },
  {
   "cell_type": "code",
   "execution_count": null,
   "metadata": {},
   "outputs": [],
   "source": [
    "# Include performance comparison of naive vs. better vs. sklearn"
   ]
  },
  {
   "cell_type": "markdown",
   "metadata": {},
   "source": [
    "# Test classifier with different settings\n",
    "___\n",
    "Feature scaling: MinMax scaler, standard scaler, etc.\n",
    "Number of neighbours: 1, 3, 5, etc.\n",
    "Different datasets: Try other datasets.\n",
    "\n",
    "\n",
    "Plot accuracy vs. number of neighbours like above plot.\n",
    "\n",
    "*Note: Could implement scalers ourselves."
   ]
  },
  {
   "cell_type": "markdown",
   "metadata": {},
   "source": [
    "# Visualize classifier\n",
    "___\n",
    "Use PCA to reduce features to 2 so it can be plotted. Plot decision boundary."
   ]
  },
  {
   "cell_type": "code",
   "execution_count": null,
   "metadata": {},
   "outputs": [],
   "source": []
  },
  {
   "cell_type": "markdown",
   "metadata": {},
   "source": [
    "# Prediction\n",
    "___\n",
    "repeat some of the stuff abov but for prediction."
   ]
  },
  {
   "cell_type": "code",
   "execution_count": 334,
   "metadata": {},
   "outputs": [
    {
     "name": "stdout",
     "output_type": "stream",
     "text": [
      "(160, 16)\n"
     ]
    }
   ],
   "source": [
    "# dataset\n",
    "data_set = arff.loadarff('autos.arff')\n",
    "data = pd.DataFrame(data_set[0])\n",
    "    \n",
    "# Remove any categorical labels (Note: temporary as we can encode these categorical labels later)\n",
    "data.drop(['make', 'fuel-type', 'aspiration', 'num-of-doors', 'body-style', \n",
    "            'drive-wheels', 'engine-location', 'engine-type', 'num-of-cylinders', \n",
    "            'fuel-system'], axis=1, inplace=True)\n",
    "\n",
    "# Remove missing values\n",
    "filtered = data.dropna()\n",
    "print(filtered.shape)\n",
    "\n",
    "# Separate labels & x-data\n",
    "y = filtered['price'].to_numpy()\n",
    "X = filtered.drop('price', axis=1).to_numpy().astype(np.float64)"
   ]
  },
  {
   "cell_type": "code",
   "execution_count": 335,
   "metadata": {},
   "outputs": [
    {
     "name": "stdout",
     "output_type": "stream",
     "text": [
      "<class 'numpy.float64'>\n"
     ]
    }
   ],
   "source": [
    "print(type(X[0,1]))"
   ]
  },
  {
   "cell_type": "code",
   "execution_count": 448,
   "metadata": {},
   "outputs": [],
   "source": [
    "# No fitting. All time spent on prediction.\n",
    "class SimpleKNNRegressor:\n",
    "    def __init__(self, n_neighbours, dist_metric='euclidean'):\n",
    "        assert(dist_metric == 'euclidean' or dist_metric=='manhattan')\n",
    "        self.n_neighbours = n_neighbours\n",
    "        if dist_metric == 'euclidean':\n",
    "            self.dist_metric = euclidean\n",
    "        else:\n",
    "            self.dist_metric = manhattan\n",
    "    \n",
    "    def fit(self, X_train, y_train):\n",
    "        self.X_train = X_train\n",
    "        self.y_train = y_train\n",
    "    \n",
    "    def predict_single1(self, x): # Does not take advantage of matrix operations\n",
    "        n = self.X_train.shape[0] # number of training examples\n",
    "        pairs = [] # list of (distance, label) pairs\n",
    "        for i in range(n):\n",
    "            pairs.append((self.dist_metric(self.X_train[i], x), self.y_train[i]))\n",
    "        pairs.sort(key = lambda pair: pair[0])\n",
    "        nearest = [pair[1] for pair in pairs[:self.n_neighbours]] # get labels of nearest neighbours\n",
    "        return np.mean(nearest)\n",
    " \n",
    "    def predict_single2(self, x): # Does not take advantage of matrix operations but uses heap\n",
    "        n = self.X_train.shape[0] # number of training examples\n",
    "        pairs = [] # list of (distance, label) pairs\n",
    "        for i in range(n):\n",
    "            heappush(pairs, (self.dist_metric(self.X_train[i], x), self.y_train[i]))\n",
    "        nearest = []\n",
    "        for i in range(self.n_neighbours):\n",
    "            nearest.append(heappop(pairs)[1])\n",
    "        return np.mean(nearest)\n",
    "\n",
    "    def predict_single3(self, x): # Takes advantage of matrix operations\n",
    "        diff = self.X_train - x\n",
    "        distances = np.sqrt(np.sum(np.square(diff, diff), axis=1))\n",
    "        pairs = np.stack([distances, self.y_train], axis=1) # distance and label\n",
    "        pairs = pairs[pairs[:, 0].argsort(kind='stable')] # sort by distance\n",
    "        nearest = pairs[:self.n_neighbours, 1].astype(np.int64) # label of nearest neighbours\n",
    "        return np.mean(nearest)\n",
    "    \n",
    "    def predict_single4(self, x): # Takes advantage of matrix operations and uses heap\n",
    "        diff = self.X_train - x\n",
    "        distances = np.sqrt(np.sum(np.square(diff, diff), axis=1))\n",
    "        pairs = np.stack([distances, self.y_train], axis=1) # distance and label\n",
    "        pairs = pairs.tolist() # convert to list for heap ops\n",
    "        nearest = []\n",
    "        ordered = []\n",
    "        for pair in pairs: # have to push all pairs to a heap\n",
    "            heappush(ordered, pair)\n",
    "        for i in range(self.n_neighbours): # and then pop them\n",
    "            nearest.append(int(heappop(ordered)[1]))\n",
    "        return np.mean(nearest)\n",
    "    \n",
    "\n",
    "    def predict1(self, X_test): # NO matrix ops\n",
    "        y_pred = []\n",
    "        for x in X_test:\n",
    "            y_pred.append(self.predict_single1(x))\n",
    "        return np.asarray(y_pred)\n",
    "    \n",
    "    def predict2(self, X_test): # NO matrix ops uses heap\n",
    "        y_pred = []\n",
    "        for x in X_test:\n",
    "            y_pred.append(self.predict_single2(x))\n",
    "        return np.asarray(y_pred)\n",
    "    \n",
    "    def predict3(self, X_test): # Matrix ops\n",
    "        y_pred = []\n",
    "        for x in X_test:\n",
    "            y_pred.append(self.predict_single3(x))\n",
    "        return np.asarray(y_pred)           \n",
    "        \n",
    "    def predict4(self, X_test): # Matrix ops\n",
    "        y_pred = []\n",
    "        for x in X_test:\n",
    "            y_pred.append(self.predict_single4(x))\n",
    "        return np.asarray(y_pred)"
   ]
  },
  {
   "cell_type": "code",
   "execution_count": 449,
   "metadata": {},
   "outputs": [
    {
     "name": "stdout",
     "output_type": "stream",
     "text": [
      "[18432.33333333  9359.          8611.66666667 15256.66666667\n",
      " 11430.        ]\n",
      "[18432.33333333  9359.          8611.66666667 15256.66666667\n",
      " 11430.        ]\n",
      "[18432.33333333  9359.          8611.66666667 15256.66666667\n",
      " 11430.        ]\n",
      "[18432.33333333  9359.          8611.66666667 15256.66666667\n",
      " 11430.        ]\n"
     ]
    }
   ],
   "source": [
    "X_test = X[np.random.randint(X.shape[0], size=5), :]\n",
    "\n",
    "classifier = SimpleKNNRegressor(n_neighbours=3)\n",
    "classifier.fit(X, y)\n",
    "print(classifier.predict4(X_test))\n",
    "print(classifier.predict3(X_test))\n",
    "print(classifier.predict2(X_test))\n",
    "print(classifier.predict1(X_test))"
   ]
  },
  {
   "cell_type": "code",
   "execution_count": null,
   "metadata": {},
   "outputs": [],
   "source": []
  },
  {
   "cell_type": "code",
   "execution_count": 450,
   "metadata": {},
   "outputs": [
    {
     "data": {
      "text/plain": [
       "array([18432.33333333,  9359.        ,  8611.66666667, 15256.66666667,\n",
       "       11430.        ])"
      ]
     },
     "execution_count": 450,
     "metadata": {},
     "output_type": "execute_result"
    }
   ],
   "source": [
    "classifiersk = KNeighborsRegressor(n_neighbors = 3)\n",
    "classifiersk.fit(X, y)\n",
    "classifiersk.predict(X_test)"
   ]
  },
  {
   "cell_type": "code",
   "execution_count": 451,
   "metadata": {},
   "outputs": [
    {
     "name": "stdout",
     "output_type": "stream",
     "text": [
      "4.03 ms ± 107 µs per loop (mean ± std. dev. of 7 runs, 100 loops each)\n",
      "4.34 ms ± 367 µs per loop (mean ± std. dev. of 7 runs, 100 loops each)\n",
      "307 µs ± 12.7 µs per loop (mean ± std. dev. of 7 runs, 1000 loops each)\n",
      "502 µs ± 9.88 µs per loop (mean ± std. dev. of 7 runs, 1000 loops each)\n"
     ]
    }
   ],
   "source": [
    "# Testing our naive regressor\n",
    "X_test = X[np.random.randint(X.shape[0], size=5), :]\n",
    "\n",
    "classifier = SimpleKNNRegressor(n_neighbours=3)\n",
    "classifier.fit(X, y)\n",
    "classifier.predict3(X_test)\n",
    "\n",
    "%timeit classifier.predict1(X_test)\n",
    "%timeit classifier.predict2(X_test)\n",
    "%timeit classifier.predict3(X_test)\n",
    "%timeit classifier.predict4(X_test)"
   ]
  },
  {
   "cell_type": "code",
   "execution_count": 452,
   "metadata": {},
   "outputs": [
    {
     "name": "stdout",
     "output_type": "stream",
     "text": [
      "384 µs ± 16.6 µs per loop (mean ± std. dev. of 7 runs, 1000 loops each)\n"
     ]
    }
   ],
   "source": [
    "# Testing sklearn classifier\n",
    "classifiersk = KNeighborsRegressor(n_neighbors = 3)\n",
    "classifiersk.fit(X, y)\n",
    "classifiersk.predict(X_test)\n",
    "\n",
    "%timeit classifiersk.predict(X_test)"
   ]
  },
  {
   "cell_type": "markdown",
   "metadata": {},
   "source": [
    "Clearly matrix operations make things much faster."
   ]
  },
  {
   "cell_type": "markdown",
   "metadata": {},
   "source": [
    "Test error as k increases"
   ]
  },
  {
   "cell_type": "code",
   "execution_count": 3,
   "metadata": {},
   "outputs": [
    {
     "name": "stdout",
     "output_type": "stream",
     "text": [
      "Cross validation for KNN classification\n",
      "Predicted error of KNN Classification: 0.1339031339031339\n",
      "Predicted error of KNN Classification: 0.150997150997151\n",
      "Predicted error of KNN Classification: 0.15384615384615385\n",
      "Predicted error of KNN Classification: 0.16809116809116809\n",
      "Predicted error of KNN Classification: 0.16809116809116809\n",
      "Predicted error of KNN Classification: 0.16524216524216523\n",
      "Predicted error of KNN Classification: 0.16524216524216523\n",
      "Predicted error of KNN Classification: 0.16809116809116809\n",
      "Cross validation for KNN classification\n",
      "Predicted error of KNN Classification: 0.2535612535612536\n",
      "Predicted error of KNN Classification: 0.2564102564102564\n",
      "Predicted error of KNN Classification: 0.25925925925925924\n",
      "Predicted error of KNN Classification: 0.25071225071225073\n",
      "Predicted error of KNN Classification: 0.25071225071225073\n",
      "Predicted error of KNN Classification: 0.25071225071225073\n",
      "Predicted error of KNN Classification: 0.25071225071225073\n",
      "Predicted error of KNN Classification: 0.25071225071225073\n"
     ]
    },
    {
     "data": {
      "image/png": "[encoded data removed]",
      "text/plain": [
       "<Figure size 432x288 with 1 Axes>"
      ]
     },
     "metadata": {
      "needs_background": "light"
     },
     "output_type": "display_data"
    }
   ],
   "source": [
    "import test\n",
    "from distance import Euclidean, Manhattan\n",
    "eu_err = test.standard_classification_test(distance = Euclidean())\n",
    "ma_err = test.standard_classification_test(distance = Manhattan())\n",
    "n_neighbours = [1, 3, 5, 7, 9, 11, 13, 15]\n",
    "plt.plot(n_neighbours, eu_err, 'r-', label = \"Euclidean Distance\")\n",
    "plt.plot(n_neighbours, ma_err, 'b-', label = \"Manhattan Distance\")\n",
    "plt.xlabel('k neighbours')\n",
    "plt.ylabel('Error')\n",
    "plt.title('Error as k increases')\n",
    "#plt.xticks(n_neighbours)\n",
    "plt.legend()\n",
    "plt.show()"
   ]
  },
  {
   "cell_type": "code",
   "execution_count": null,
   "metadata": {},
   "outputs": [],
   "source": []
  },
  {
   "cell_type": "code",
   "execution_count": null,
   "metadata": {},
   "outputs": [],
   "source": [
    "# With min max scaler\n",
    "def SameTestAsAbove(X, y, k, p):\n",
    "    # Leave one out cross-validation\n",
    "    loo = LeaveOneOut()\n",
    "    loo.get_n_splits(X)\n",
    "\n",
    "    # KNN classifier\n",
    "    wrong_count = 0;\n",
    "    total_count = y.shape[0];\n",
    "    classifier = KNeighborsClassifier(n_neighbors = k, p=p)\n",
    "\n",
    "    # Train on each split and predict on the single test example\n",
    "    for train_index, test_index in loo.split(X):\n",
    "        X_train = X[train_index]\n",
    "        X_test = X[test_index]\n",
    "        y_train = y[train_index]\n",
    "        y_test = y[test_index]\n",
    "        classifier.fit(X_train, y_train)\n",
    "        y_pred = classifier.predict(X_test)\n",
    "        if y_pred != y_test:\n",
    "            wrong_count += 1\n",
    "\n",
    "    return wrong_count / total_count"
   ]
  },
  {
   "cell_type": "code",
   "execution_count": 7,
   "metadata": {},
   "outputs": [],
   "source": [
    "euclid = []\n",
    "manhat = []\n",
    "n_neighbours = [1, 3, 5, 7, 9, 11, 13, 15]\n",
    "for k in n_neighbours:\n",
    "    euclid.append(SameTestAsAbove(X, y, k, 2)) # 2 = 2 norm (euclidean)\n",
    "    manhat.append(SameTestAsAbove(X, y, k, 1)) # 1 = 1 norm (manhattan)\n"
   ]
  },
  {
   "cell_type": "code",
   "execution_count": 8,
   "metadata": {},
   "outputs": [
    {
     "data": {
      "image/png": "[encoded data removed]",
      "text/plain": [
       "<Figure size 432x288 with 1 Axes>"
      ]
     },
     "metadata": {
      "needs_background": "light"
     },
     "output_type": "display_data"
    }
   ],
   "source": [
    "plt.plot(n_neighbours, euclid, 'r-', label='euclid')\n",
    "plt.plot(n_neighbours, manhat, 'b-', label='manhat')\n",
    "plt.show()"
   ]
  },
  {
   "cell_type": "code",
   "execution_count": 5,
   "metadata": {},
   "outputs": [
    {
     "name": "stdout",
     "output_type": "stream",
     "text": [
      "Predicted error of KNN Classification: 0.1339031339031339\n",
      "Predicted error of KNN Classification: 0.1339031339031339\n",
      "Predicted error of KNN Classification: 0.150997150997151\n",
      "Predicted error of KNN Classification: 0.150997150997151\n",
      "Predicted error of KNN Classification: 0.15384615384615385\n",
      "Predicted error of KNN Classification: 0.15384615384615385\n",
      "Predicted error of KNN Classification: 0.16809116809116809\n",
      "Predicted error of KNN Classification: 0.16809116809116809\n",
      "Predicted error of KNN Classification: 0.16809116809116809\n",
      "Predicted error of KNN Classification: 0.16809116809116809\n",
      "Predicted error of KNN Classification: 0.16524216524216523\n",
      "Predicted error of KNN Classification: 0.16524216524216523\n",
      "Predicted error of KNN Classification: 0.16524216524216523\n",
      "Predicted error of KNN Classification: 0.16524216524216523\n",
      "Predicted error of KNN Classification: 0.16809116809116809\n",
      "Predicted error of KNN Classification: 0.16809116809116809\n"
     ]
    }
   ],
   "source": [
    "from KNN_Class import *\n",
    "\n",
    "data_set = arff.loadarff('ionosphere.arff')\n",
    "data = pd.DataFrame(data_set[0]).to_numpy()\n",
    "x_data = data[:, :-1]\n",
    "labels = data[:, -1]\n",
    "\n",
    "err1 = []\n",
    "err2 = []\n",
    "n_neighbours = [1, 3, 5, 7, 9, 11, 13, 15]\n",
    "for i in n_neighbours:\n",
    "    nverr = cross_validation(x_data, labels, KNN_Class(), i)\n",
    "    err1.append(nverr)\n",
    "    bterr = cross_validation(x_data, labels, WKNN_Class(), i)\n",
    "    err2.append(bterr)"
   ]
  },
  {
   "cell_type": "code",
   "execution_count": 6,
   "metadata": {},
   "outputs": [
    {
     "data": {
      "image/png": "[encoded data removed]",
      "text/plain": [
       "<Figure size 432x288 with 1 Axes>"
      ]
     },
     "metadata": {
      "needs_background": "light"
     },
     "output_type": "display_data"
    }
   ],
   "source": [
    "\n",
    "plt.plot(n_neighbours, err1, 'r-', label = \"standard KNN classifier\")\n",
    "plt.plot(n_neighbours, err2, 'b-', label = \"weighted KNN classifier\")\n",
    "plt.xlabel('k neighbours')\n",
    "plt.ylabel('Error')\n",
    "plt.title('Error as k increases')\n",
    "#plt.xticks(n_neighbours)\n",
    "plt.legend()\n",
    "plt.show()"
   ]
  },
  {
   "cell_type": "code",
   "execution_count": 1,
   "metadata": {},
   "outputs": [
    {
     "name": "stdout",
     "output_type": "stream",
     "text": [
      "Predicted error of KNN Classification: 0.1339031339031339\n",
      "Predicted error of KNN Classification: 0.1339031339031339\n",
      "Predicted error of KNN Classification: 0.150997150997151\n",
      "Predicted error of KNN Classification: 0.150997150997151\n",
      "Predicted error of KNN Classification: 0.15384615384615385\n",
      "Predicted error of KNN Classification: 0.15384615384615385\n",
      "Predicted error of KNN Classification: 0.16809116809116809\n",
      "Predicted error of KNN Classification: 0.16809116809116809\n",
      "Predicted error of KNN Classification: 0.16809116809116809\n",
      "Predicted error of KNN Classification: 0.16809116809116809\n",
      "Predicted error of KNN Classification: 0.16524216524216523\n",
      "Predicted error of KNN Classification: 0.16524216524216523\n",
      "Predicted error of KNN Classification: 0.16524216524216523\n",
      "Predicted error of KNN Classification: 0.16524216524216523\n",
      "Predicted error of KNN Classification: 0.16809116809116809\n",
      "Predicted error of KNN Classification: 0.16809116809116809\n"
     ]
    }
   ],
   "source": [
    "from KNN_Class import *\n",
    "\n",
    "data_set = arff.loadarff('ionosphere.arff')\n",
    "data = pd.DataFrame(data_set[0]).to_numpy()\n",
    "x_data = data[:, :-1]\n",
    "labels = data[:, -1]\n",
    "\n",
    "err1 = []\n",
    "err2 = []\n",
    "n_neighbours = [1, 3, 5, 7, 9, 11, 13, 15]\n",
    "for i in n_neighbours:\n",
    "    nverr = cross_validation(x_data, labels, KNN_Class(), i)\n",
    "    err1.append(nverr)\n",
    "    bterr = cross_validation(x_data, labels, KNN_Class(), i, method=\"BallTree\")\n",
    "    err2.append(bterr)"
   ]
  },
  {
   "cell_type": "code",
   "execution_count": 3,
   "metadata": {},
   "outputs": [
    {
     "name": "stdout",
     "output_type": "stream",
     "text": [
      "[0.1339031339031339, 0.150997150997151, 0.15384615384615385, 0.16809116809116809, 0.16809116809116809, 0.16524216524216523, 0.16524216524216523, 0.16809116809116809]\n",
      "[0.15669515669515668, 0.15954415954415954, 0.16524216524216523, 0.18518518518518517, 0.19658119658119658, 0.22792022792022792, 0.2535612535612536, 0.28774928774928776]\n"
     ]
    },
    {
     "data": {
      "image/png": "[encoded data removed]",
      "text/plain": [
       "<Figure size 432x288 with 1 Axes>"
      ]
     },
     "metadata": {
      "needs_background": "light"
     },
     "output_type": "display_data"
    }
   ],
   "source": [
    "print(err1)\n",
    "print(err2)\n",
    "plt.plot(n_neighbours, err1, 'r-', label = \"naive method\")\n",
    "plt.plot(n_neighbours, err2, 'b-', label = \"ball tree\")\n",
    "plt.xlabel('k neighbours')\n",
    "plt.ylabel('Error')\n",
    "plt.title('Error as k increases')\n",
    "#plt.xticks(n_neighbours)\n",
    "plt.legend()\n",
    "plt.show()"
   ]
  },
  {
   "cell_type": "code",
   "execution_count": null,
   "metadata": {},
   "outputs": [],
   "source": []
  },
  {
   "cell_type": "code",
   "execution_count": 22,
   "metadata": {},
   "outputs": [
    {
     "name": "stdout",
     "output_type": "stream",
     "text": [
      "Predicted error of KNN Classification: 0.017094017094017096\n",
      "Predicted error of KNN Classification: 0.005698005698005698\n",
      "Predicted error of KNN Classification: 0.0\n",
      "Predicted error of KNN Classification: 0.011396011396011397\n",
      "Predicted error of KNN Classification: 0.002849002849002849\n",
      "error with k = 1 is 0.0074074074074074086\n",
      "Predicted error of KNN Classification: 0.005698005698005698\n",
      "Predicted error of KNN Classification: 0.002849002849002849\n",
      "Predicted error of KNN Classification: 0.0\n",
      "Predicted error of KNN Classification: 0.002849002849002849\n",
      "Predicted error of KNN Classification: 0.008547008547008548\n",
      "error with k = 3 is 0.003988603988603989\n",
      "Predicted error of KNN Classification: 0.0\n",
      "Predicted error of KNN Classification: 0.002849002849002849\n",
      "Predicted error of KNN Classification: 0.002849002849002849\n",
      "Predicted error of KNN Classification: 0.0\n",
      "Predicted error of KNN Classification: 0.0\n",
      "error with k = 5 is 0.0011396011396011397\n",
      "Predicted error of KNN Classification: 0.0\n",
      "Predicted error of KNN Classification: 0.002849002849002849\n",
      "Predicted error of KNN Classification: 0.008547008547008548\n",
      "Predicted error of KNN Classification: 0.002849002849002849\n",
      "Predicted error of KNN Classification: 0.0\n",
      "error with k = 7 is 0.002849002849002849\n",
      "Predicted error of KNN Classification: 0.002849002849002849\n",
      "Predicted error of KNN Classification: 0.002849002849002849\n",
      "Predicted error of KNN Classification: 0.002849002849002849\n",
      "Predicted error of KNN Classification: 0.008547008547008548\n",
      "Predicted error of KNN Classification: 0.0\n",
      "error with k = 9 is 0.0034188034188034192\n",
      "Predicted error of KNN Classification: 0.002849002849002849\n",
      "Predicted error of KNN Classification: 0.0\n",
      "Predicted error of KNN Classification: 0.005698005698005698\n",
      "Predicted error of KNN Classification: 0.0\n",
      "Predicted error of KNN Classification: 0.0\n",
      "error with k = 11 is 0.0017094017094017096\n",
      "Predicted error of KNN Classification: 0.002849002849002849\n",
      "Predicted error of KNN Classification: 0.002849002849002849\n",
      "Predicted error of KNN Classification: 0.011396011396011397\n",
      "Predicted error of KNN Classification: 0.002849002849002849\n",
      "Predicted error of KNN Classification: 0.002849002849002849\n",
      "error with k = 13 is 0.004558404558404559\n",
      "Predicted error of KNN Classification: 0.008547008547008548\n",
      "Predicted error of KNN Classification: 0.005698005698005698\n",
      "Predicted error of KNN Classification: 0.005698005698005698\n",
      "Predicted error of KNN Classification: 0.002849002849002849\n",
      "Predicted error of KNN Classification: 0.005698005698005698\n",
      "error with k = 15 is 0.005698005698005698\n"
     ]
    }
   ],
   "source": [
    "from target import *\n",
    "p = 0.5\n",
    "num_samples = 351\n",
    "num_f = 34\n",
    "np.random.seed(201923)\n",
    "n_neighbours = [1, 3, 5, 7, 9, 11, 13, 15]\n",
    "for k in n_neighbours:\n",
    "    k_err = []\n",
    "    for i in range(0, 5):\n",
    "\n",
    "        mean0 = generate_mean(num_f)\n",
    "        cov0 = generate_covariance_matrix(num_f)\n",
    "        target0 = TargetFunction(mean0, cov0, num_f, 0)\n",
    "\n",
    "        mean1 = generate_mean(num_f)\n",
    "        cov1 = generate_covariance_matrix(num_f)\n",
    "        target1 = TargetFunction(mean1, cov1, num_f, 1)\n",
    "\n",
    "        #print('------------------------------')\n",
    "        #print(f'Generating data based on target function {p} probability between the two classes...')\n",
    "\n",
    "        class_0, class_1 = generate_dataset(p, num_samples, target0, target1)\n",
    "        #print(class_0.shape, class_1.shape)\n",
    "        #print(f'First 2 data points of class 0: \\n{class_0[:2]}')\n",
    "        #print(f'First 2 data points of class 1: \\n{class_1[:2]}')\n",
    "\n",
    "        #print('------------------------------')\n",
    "        #print('Creating data set')\n",
    "        x_data, labels = make_useable_dataset(class_0, 0, class_1, 1)\n",
    "        #print(f'First 2 data points of x_data:\\n{x_data[:2]}')\n",
    "        #print(f'First 2 data points labels:\\n{labels[:2]}')\n",
    "\n",
    "        #err = calc_bayes_error(x_data, labels, target0, p, target1, (1-p))\n",
    "        #print(f'Bayes error rate on this dataset: {err*100:.20f}%')\n",
    "        # err = calc_bayes_error(x_data, labels, target0, target1)\n",
    "        # print(f'Estimated Bayes error rate on this dataset: {err}%')\n",
    "\n",
    "        #print('------------------------------')\n",
    "        #print('Using dataset with KNN...')\n",
    "        k_err.append(cross_validation(x_data, labels, KNN_Class(), k))\n",
    "    print(\"error with k = \" + str(k) + \" is \" + str(np.mean(k_err)))"
   ]
  },
  {
   "cell_type": "code",
   "execution_count": 2,
   "metadata": {},
   "outputs": [
    {
     "name": "stdout",
     "output_type": "stream",
     "text": [
      "(195, 25)\n",
      "Cross Validation for normal KNN\n",
      "Std deviation of predicted error of KNN: 3122.7401694743435\n",
      "Std deviation of predicted error of KNN: 2726.753733400271\n",
      "Std deviation of predicted error of KNN: 3213.3849956081726\n",
      "Std deviation of predicted error of KNN: 3929.233906389519\n",
      "Std deviation of predicted error of KNN: 4104.333910986562\n",
      "Std deviation of predicted error of KNN: 4429.375193332076\n",
      "Std deviation of predicted error of KNN: 4584.536131916225\n",
      "Std deviation of predicted error of KNN: 4679.280754099769\n",
      "Cross Validation for weighted KNN\n",
      "Std deviation of predicted error of KNN: 3122.7401694743435\n",
      "Std deviation of predicted error of KNN: 2656.9513062085307\n",
      "Std deviation of predicted error of KNN: 2836.9769222987293\n",
      "Std deviation of predicted error of KNN: 3201.447501163374\n",
      "Std deviation of predicted error of KNN: 3322.6086062842387\n",
      "Std deviation of predicted error of KNN: 3581.040318109375\n",
      "Std deviation of predicted error of KNN: 3754.521089818367\n",
      "Std deviation of predicted error of KNN: 3864.0516922129973\n",
      "[3122.7401694743435, 2726.753733400271, 3213.3849956081726, 3929.233906389519, 4104.333910986562, 4429.375193332076, 4584.536131916225, 4679.280754099769]\n",
      "[3122.7401694743435, 2656.9513062085307, 2836.9769222987293, 3201.447501163374, 3322.6086062842387, 3581.040318109375, 3754.521089818367, 3864.0516922129973]\n"
     ]
    }
   ],
   "source": [
    "from KNN_Numeric import *\n",
    "# Load data from autos.aff\n",
    "data_set = arff.loadarff('autos.arff')\n",
    "data = pd.DataFrame(data_set[0])    \n",
    "\n",
    "# Make new numeric labels for each of these categorical labels \n",
    "data = convert_to_numeric(data, ['make', 'fuel-type', 'aspiration', 'num-of-doors', 'body-style', \n",
    "                'drive-wheels', 'engine-location', 'engine-type', 'num-of-cylinders', \n",
    "                'fuel-system'])\n",
    "    \n",
    "# Remove the old categorical labels \n",
    "data.drop(['make', 'fuel-type', 'aspiration', 'num-of-doors', 'body-style', \n",
    "                'drive-wheels', 'engine-location', 'engine-type', 'num-of-cylinders', \n",
    "                'fuel-system', 'normalized-losses'], axis=1, inplace=True)\n",
    "\n",
    "# Remove missing values\n",
    "filtered = data.dropna()\n",
    "#print(data)\n",
    "print(filtered.shape)\n",
    "\n",
    "# Separate labels & x-data\n",
    "labels = filtered['price'].to_numpy()\n",
    "x_data = filtered.drop('price', axis=1)\n",
    "n_neighbours = [1, 3, 5, 7, 9, 11, 13, 15]\n",
    "\n",
    "# TEMPORARY TEST FOR KNN NUMERIC\n",
    "# Test_KNN_Numeric(x_data, labels)\n",
    "\n",
    "# Cross Validation for KNN\n",
    "print(\"Cross Validation for normal KNN\")\n",
    "nv_err = []\n",
    "wt_err = []\n",
    "for i in n_neighbours:\n",
    "    nv_err.append(cross_validation(x_data, labels, KNN_Numeric(), i))\n",
    "    \n",
    "# Cross Validiation for KNN Weighted\n",
    "print(\"Cross Validation for weighted KNN\")\n",
    "for i in n_neighbours:\n",
    "    wt_err.append(cross_validation(x_data, labels, WKNN_Numeric(), i))\n",
    "    \n",
    "print(nv_err)\n",
    "print(wt_err)"
   ]
  },
  {
   "cell_type": "code",
   "execution_count": 3,
   "metadata": {},
   "outputs": [
    {
     "data": {
      "image/png": "[encoded data removed]",
      "text/plain": [
       "<Figure size 432x288 with 1 Axes>"
      ]
     },
     "metadata": {
      "needs_background": "light"
     },
     "output_type": "display_data"
    }
   ],
   "source": [
    "plt.plot(n_neighbours, nv_err, 'r-', label = \"naive KNN\")\n",
    "plt.plot(n_neighbours, wt_err, 'b-', label = \"weighted KNN\")\n",
    "plt.xlabel('k neighbours')\n",
    "plt.ylabel('Std deviation of predicted error of KNN')\n",
    "plt.title('Error as k increases')\n",
    "#plt.xticks(n_neighbours)\n",
    "plt.legend()\n",
    "plt.show()"
   ]
  },
  {
   "cell_type": "code",
   "execution_count": 7,
   "metadata": {},
   "outputs": [
    {
     "name": "stdout",
     "output_type": "stream",
     "text": [
      "(195, 25)\n",
      "Cross Validation for normal KNN\n",
      "Std deviation of predicted error of KNN: 3122.7401694743435\n",
      "Std deviation of predicted error of KNN: 2726.753733400271\n",
      "Std deviation of predicted error of KNN: 3213.3849956081726\n",
      "Std deviation of predicted error of KNN: 3929.233906389519\n",
      "Std deviation of predicted error of KNN: 4104.333910986562\n",
      "Std deviation of predicted error of KNN: 4429.375193332076\n",
      "Std deviation of predicted error of KNN: 4584.536131916225\n",
      "Std deviation of predicted error of KNN: 4679.280754099769\n",
      "Cross Validation for weighted KNN\n",
      "Std deviation of predicted error of KNN: 5180.216072155131\n",
      "Std deviation of predicted error of KNN: 4820.043755089667\n",
      "Std deviation of predicted error of KNN: 5872.6248211819775\n",
      "Std deviation of predicted error of KNN: 5903.093030863458\n",
      "Std deviation of predicted error of KNN: 5918.088510227018\n",
      "Std deviation of predicted error of KNN: 5922.197290174808\n",
      "Std deviation of predicted error of KNN: 6093.544715772409\n",
      "Std deviation of predicted error of KNN: 6144.358803135878\n",
      "[3122.7401694743435, 2726.753733400271, 3213.3849956081726, 3929.233906389519, 4104.333910986562, 4429.375193332076, 4584.536131916225, 4679.280754099769]\n",
      "[5180.216072155131, 4820.043755089667, 5872.6248211819775, 5903.093030863458, 5918.088510227018, 5922.197290174808, 6093.544715772409, 6144.358803135878]\n"
     ]
    }
   ],
   "source": [
    "from KNN_Numeric import *\n",
    "# Load data from autos.aff\n",
    "data_set = arff.loadarff('autos.arff')\n",
    "data = pd.DataFrame(data_set[0])    \n",
    "\n",
    "# Make new numeric labels for each of these categorical labels \n",
    "data = convert_to_numeric(data, ['make', 'fuel-type', 'aspiration', 'num-of-doors', 'body-style', \n",
    "                'drive-wheels', 'engine-location', 'engine-type', 'num-of-cylinders', \n",
    "                'fuel-system'])\n",
    "    \n",
    "# Remove the old categorical labels \n",
    "data.drop(['make', 'fuel-type', 'aspiration', 'num-of-doors', 'body-style', \n",
    "                'drive-wheels', 'engine-location', 'engine-type', 'num-of-cylinders', \n",
    "                'fuel-system', 'normalized-losses'], axis=1, inplace=True)\n",
    "\n",
    "# Remove missing values\n",
    "filtered = data.dropna()\n",
    "#print(data)\n",
    "print(filtered.shape)\n",
    "\n",
    "# Separate labels & x-data\n",
    "labels = filtered['price'].to_numpy()\n",
    "x_data = filtered.drop('price', axis=1)\n",
    "n_neighbours = [1, 3, 5, 7, 9, 11, 13, 15]\n",
    "\n",
    "# TEMPORARY TEST FOR KNN NUMERIC\n",
    "# Test_KNN_Numeric(x_data, labels)\n",
    "\n",
    "# Cross Validation for KNN\n",
    "print(\"Cross Validation for normal KNN\")\n",
    "eu_err = []\n",
    "mh_err = []\n",
    "for i in n_neighbours:\n",
    "    eu_err.append(cross_validation(x_data, labels, KNN_Numeric(), i))\n",
    "    \n",
    "# Cross Validiation for KNN Weighted\n",
    "print(\"Cross Validation for weighted KNN\")\n",
    "for i in n_neighbours:\n",
    "    mh_err.append(cross_validation(x_data, labels, KNN_Numeric(), i, distance=Manhattan()))\n",
    "    \n",
    "print(eu_err)\n",
    "print(mh_err)"
   ]
  },
  {
   "cell_type": "code",
   "execution_count": 8,
   "metadata": {},
   "outputs": [
    {
     "data": {
      "image/png": "[encoded data removed]",
      "text/plain": [
       "<Figure size 432x288 with 1 Axes>"
      ]
     },
     "metadata": {
      "needs_background": "light"
     },
     "output_type": "display_data"
    }
   ],
   "source": [
    "plt.plot(n_neighbours, eu_err, 'r-', label = \"Euclidean\")\n",
    "plt.plot(n_neighbours, mh_err, 'b-', label = \"Manhattan\")\n",
    "plt.xlabel('k neighbours')\n",
    "plt.ylabel('Std deviation of predicted error of KNN')\n",
    "plt.title('Error as k increases')\n",
    "#plt.xticks(n_neighbours)\n",
    "plt.legend()\n",
    "plt.show()"
   ]
  },
  {
   "cell_type": "code",
   "execution_count": null,
   "metadata": {},
   "outputs": [],
   "source": []
  }
 ],
 "metadata": {
  "kernelspec": {
   "display_name": "Python 3",
   "language": "python",
   "name": "python3"
  },
  "language_info": {
   "codemirror_mode": {
    "name": "ipython",
    "version": 3
   },
   "file_extension": ".py",
   "mimetype": "text/x-python",
   "name": "python",
   "nbconvert_exporter": "python",
   "pygments_lexer": "ipython3",
   "version": "3.7.3"
  }
 },
 "nbformat": 4,
 "nbformat_minor": 2
}
