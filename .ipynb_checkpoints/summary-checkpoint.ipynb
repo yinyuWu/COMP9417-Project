{
 "cells": [
  {
   "cell_type": "markdown",
   "metadata": {},
   "source": [
    "## 1. KNN Classifier\n",
    "___\n",
    "This classifier makes use of the fast matrix operations that come with numpy. Without utilizing matrix operations, the classifier ran close to 20 times slower. Comparing our implementation to the sklearn implementation, our implementation is 75% faster on average on the ionosphere dataset.\n",
    "\n",
    "For each example in the test set, the classifier calculates the distance to every example in the training set. It then concatenates the distances with the corresponding labels and performs a sort to get the nearest training examples. The most common label among the k nearest training examples is returned."
   ]
  },
  {
   "cell_type": "code",
   "execution_count": 1,
   "metadata": {},
   "outputs": [],
   "source": [
    "# imports\n",
    "import numpy as np\n",
    "from scipy.io import arff\n",
    "import pandas as pd\n",
    "from sklearn.neighbors import KNeighborsClassifier, KNeighborsRegressor\n",
    "from sklearn.model_selection import LeaveOneOut\n",
    "from sklearn.preprocessing import StandardScaler\n",
    "from sklearn.preprocessing import MinMaxScaler\n",
    "from sklearn.decomposition import PCA\n",
    "import matplotlib.pyplot as plt\n",
    "from matplotlib.colors import ListedColormap"
   ]
  },
  {
   "cell_type": "code",
   "execution_count": 2,
   "metadata": {},
   "outputs": [
    {
     "name": "stdout",
     "output_type": "stream",
     "text": [
      "X: (351, 34)\n",
      "y: (351,)\n"
     ]
    }
   ],
   "source": [
    "# Read in dataset\n",
    "dataset = arff.loadarff('ionosphere.arff')\n",
    "dataset = pd.DataFrame(dataset[0])\n",
    "dataset = dataset.to_numpy()\n",
    "X = dataset[:, :-1].astype(np.float64) # cast datatype from 'float' to 'np.float64' (seems to be faster)\n",
    "y = dataset[:, -1]\n",
    "labels, y = np.unique(y, return_inverse=True) # map labels to ints (labels[0] -> 0, labels[1] -> 1)\n",
    "print('X:', X.shape)\n",
    "print('y:', y.shape)"
   ]
  },
  {
   "cell_type": "code",
   "execution_count": 3,
   "metadata": {},
   "outputs": [],
   "source": [
    "# Class for simple KNN classification\n",
    "class SimpleKNNClassifier:\n",
    "    def __init__(self, n_neighbours, dist_metric='euclidean'):\n",
    "        assert(dist_metric == 'euclidean' or dist_metric=='manhattan')\n",
    "        self.n_neighbours = n_neighbours\n",
    "        self.dist_metric = dist_metric\n",
    "    \n",
    "    def fit(self, X_train, y_train):\n",
    "        self.X_train = X_train\n",
    "        self.y_train = y_train\n",
    "\n",
    "    def predict_single_euclidean(self, x):\n",
    "        diff = self.X_train - x\n",
    "        distances = np.sqrt(np.sum(np.square(diff, diff), axis=1))\n",
    "        pairs = np.stack([distances, self.y_train], axis=1) # shape: (n_examples, 2)\n",
    "        pairs = pairs[pairs[:, 0].argsort()] # sort by distance\n",
    "        nearest = pairs[:self.n_neighbours, 1].astype(np.int64) # label of nearest neighbours\n",
    "        return np.bincount(nearest).argmax()\n",
    "    \n",
    "    def predict_single_manhattan(self, x):\n",
    "        diff = self.X_train - x\n",
    "        distances = np.sum(np.abs(diff), axis=1)\n",
    "        pairs = np.stack([distances, self.y_train], axis=1) # shape: (n_examples, n_features)\n",
    "        pairs = pairs[pairs[:, 0].argsort()] # sort by distance\n",
    "        nearest = pairs[:self.n_neighbours, 1].astype(np.int64) # label of nearest neighbours\n",
    "        return np.bincount(nearest).argmax()\n",
    "\n",
    "    def predict(self, X_test):\n",
    "        y_pred = []\n",
    "        if self.dist_metric == 'euclidean':\n",
    "            for x in X_test:\n",
    "                y_pred.append(self.predict_single_euclidean(x))\n",
    "        else:\n",
    "            for x in X_test:\n",
    "                y_pred.append(self.predict_single_manhattan(x))\n",
    "        return np.asarray(y_pred)           "
   ]
  },
  {
   "cell_type": "code",
   "execution_count": null,
   "metadata": {},
   "outputs": [
    {
     "name": "stdout",
     "output_type": "stream",
     "text": [
      "[1 0 0 1 0]\n"
     ]
    }
   ],
   "source": [
    "# Running our classifier\n",
    "X_test = X[np.random.randint(X.shape[0], size=5), :]\n",
    "\n",
    "classifier = SimpleKNNClassifier(n_neighbours=3, dist_metric='manhattan')\n",
    "classifier.fit(X, y)\n",
    "print(classifier.predict(X_test))"
   ]
  },
  {
   "cell_type": "code",
   "execution_count": null,
   "metadata": {},
   "outputs": [],
   "source": [
    "# Visualizing the classifier\n",
    "pca = PCA(n_components = 2) # note: much of the variance is lost with so few principal components\n",
    "X_new = pca.fit_transform(X)\n",
    "\n",
    "# Train classifier on transformed data\n",
    "classifier = SimpleKNNClassifier(n_neighbours=3, dist_metric='manhattan')\n",
    "classifier.fit(X_new, y)\n",
    "\n",
    "# Plot data points\n",
    "plt.plot(X_new[y==0, 0], X_new[y==0, 1], 'ro', label='y = 0')\n",
    "plt.plot(X_new[y==1, 0], X_new[y==1, 1], 'bo', label='y = 1')\n",
    "\n",
    "# Plot boundary\n",
    "X_grid1, X_grid2 = np.meshgrid(np.linspace(min(X_new[:,0])-1, max(X_new[:,0])+1, 1000), \n",
    "                               np.linspace(min(X_new[:,1])-1, max(X_new[:,1])+1, 1000))\n",
    "y_grid = classifier.predict(np.c_[X_grid1.ravel(), X_grid2.ravel()])\n",
    "\n",
    "plt.contourf(X_grid1, X_grid2, y_grid.reshape(X_grid1.shape),\n",
    "            alpha = 0.2, cmap = ListedColormap(('red', 'blue')))\n",
    "\n",
    "# Label plot\n",
    "plt.title('KNN Classifier (k=3)')\n",
    "plt.xlabel('Component 1')\n",
    "plt.ylabel('Component 2')\n",
    "plt.legend()\n",
    "plt.show()"
   ]
  },
  {
   "cell_type": "code",
   "execution_count": null,
   "metadata": {},
   "outputs": [],
   "source": []
  },
  {
   "cell_type": "markdown",
   "metadata": {},
   "source": [
    "## 2. KNN Regressor\n",
    "___\n",
    "The regressor is the same as the classifier but instead of returning the most common label, it returns the mean. The regressor is slightly faster than the sklearn implementation when running on the autos dataset.\n"
   ]
  },
  {
   "cell_type": "code",
   "execution_count": 41,
   "metadata": {},
   "outputs": [
    {
     "name": "stdout",
     "output_type": "stream",
     "text": [
      "(160, 16)\n"
     ]
    }
   ],
   "source": [
    "# dataset\n",
    "data_set = arff.loadarff('autos.arff')\n",
    "data = pd.DataFrame(data_set[0])\n",
    "    \n",
    "# Remove any categorical labels (Note: temporary as we can encode these categorical labels later)\n",
    "data.drop(['make', 'fuel-type', 'aspiration', 'num-of-doors', 'body-style', \n",
    "            'drive-wheels', 'engine-location', 'engine-type', 'num-of-cylinders', \n",
    "            'fuel-system'], axis=1, inplace=True)\n",
    "\n",
    "# Remove missing values\n",
    "filtered = data.dropna()\n",
    "print(filtered.shape)\n",
    "\n",
    "# Separate labels & x-data\n",
    "y = filtered['price'].to_numpy()\n",
    "X = filtered.drop('price', axis=1).to_numpy().astype(np.float64)"
   ]
  },
  {
   "cell_type": "code",
   "execution_count": 117,
   "metadata": {},
   "outputs": [],
   "source": [
    "# Class for simple KNN prediction\n",
    "\n",
    "class SimpleKNNRegressor:\n",
    "    def __init__(self, n_neighbours, dist_metric='euclidean'):\n",
    "        assert(dist_metric == 'euclidean' or dist_metric=='manhattan')\n",
    "        self.n_neighbours = n_neighbours\n",
    "        self.dist_metric = dist_metric\n",
    "            \n",
    "    def fit(self, X_train, y_train):\n",
    "        self.X_train = X_train\n",
    "        self.y_train = y_train\n",
    "\n",
    "    def predict_single_euclidean(self, x): # Takes advantage of matrix operations\n",
    "        diff = self.X_train - x\n",
    "        distances = np.sqrt(np.sum(np.square(diff, diff), axis=1))\n",
    "        pairs = np.stack([distances, self.y_train], axis=1) # distance and label\n",
    "        pairs = pairs[pairs[:, 0].argsort(kind='stable')] # sort by distance\n",
    "        nearest = pairs[:self.n_neighbours, 1] # value of nearest neighbours\n",
    "        return np.mean(nearest)\n",
    "    \n",
    "    def predict_single_manhattan(self, x): # Takes advantage of matrix operations\n",
    "        diff = self.X_train - x\n",
    "        distances = np.sum(np.abs(diff), axis=1)\n",
    "        pairs = np.stack([distances, self.y_train], axis=1) # distance and label\n",
    "        pairs = pairs[pairs[:, 0].argsort(kind='stable')] # sort by distance\n",
    "        nearest = pairs[:self.n_neighbours, 1] # label of nearest neighbours\n",
    "        return np.mean(nearest)\n",
    "    \n",
    "    def predict(self, X_test): # Matrix ops\n",
    "        y_pred = []\n",
    "        if self.dist_metric == 'euclidean':\n",
    "            for x in X_test:\n",
    "                y_pred.append(self.predict_single_euclidean(x))\n",
    "        else:\n",
    "            for x in X_test:\n",
    "                y_pred.append(self.predict_single_manhattan(x))\n",
    "        return np.asarray(y_pred)  "
   ]
  },
  {
   "cell_type": "code",
   "execution_count": 111,
   "metadata": {},
   "outputs": [
    {
     "name": "stdout",
     "output_type": "stream",
     "text": [
      "[6997.66666667 7291.33333333 8393.66666667 9486.         6028.33333333]\n"
     ]
    }
   ],
   "source": [
    "# Running our regressor\n",
    "X_test = X[np.random.randint(X.shape[0], size=5), :]\n",
    "\n",
    "regressor = SimpleKNNRegressor(n_neighbours=3, dist_metric='manhattan')\n",
    "regressor.fit(X, y)\n",
    "print(regressor.predict(X_test))"
   ]
  },
  {
   "cell_type": "code",
   "execution_count": 48,
   "metadata": {},
   "outputs": [
    {
     "data": {
      "image/png": "[encoded data removed]",
      "text/plain": [
       "<Figure size 432x288 with 1 Axes>"
      ]
     },
     "metadata": {
      "needs_background": "light"
     },
     "output_type": "display_data"
    }
   ],
   "source": [
    "# Visualizing the regressor\n",
    "pca = PCA(n_components = 1) # note: much of the variance is lost with so few principal components\n",
    "X_new = pca.fit_transform(X)\n",
    "\n",
    "# Train classifier on transformed data\n",
    "regressor = SimpleKNNClassifier(n_neighbours=3, dist_metric='manhattan')\n",
    "regressor.fit(X_new, y)\n",
    "\n",
    "# Plot data points\n",
    "plt.plot(X_new, y, 'ro')\n",
    "\n",
    "# Plot regression curve\n",
    "X_grid = np.linspace(min(X_new), max(X_new), 1000).reshape(-1,1)\n",
    "plt.plot(X_grid, regressor.predict(X_grid), 'b-')\n",
    "\n",
    "# Label plot\n",
    "plt.title('KNN Regressor (k=3)')\n",
    "plt.xlabel('Component 1')\n",
    "plt.ylabel('Price')\n",
    "plt.show()"
   ]
  },
  {
   "cell_type": "markdown",
   "metadata": {},
   "source": [
    "## 3. Weighted KNN Classifier\n",
    "___\n",
    "\n",
    "Edited predict_single_euclidean and predict_single_manhattan functions to account for distance weighting."
   ]
  },
  {
   "cell_type": "code",
   "execution_count": 50,
   "metadata": {},
   "outputs": [
    {
     "name": "stdout",
     "output_type": "stream",
     "text": [
      "X: (351, 34)\n",
      "y: (351,)\n"
     ]
    }
   ],
   "source": [
    "# Read in dataset\n",
    "dataset = arff.loadarff('ionosphere.arff')\n",
    "dataset = pd.DataFrame(dataset[0])\n",
    "dataset = dataset.to_numpy()\n",
    "X = dataset[:, :-1].astype(np.float64) # cast datatype from 'float' to 'np.float64' (seems to be faster)\n",
    "y = dataset[:, -1]\n",
    "labels, y = np.unique(y, return_inverse=True) # map labels to ints (labels[0] -> 0, labels[1] -> 1)\n",
    "print('X:', X.shape)\n",
    "print('y:', y.shape)"
   ]
  },
  {
   "cell_type": "code",
   "execution_count": 100,
   "metadata": {},
   "outputs": [],
   "source": [
    "# Class for simple weighted KNN classification\n",
    "class SimpleWNNClassifier:\n",
    "    def __init__(self, n_neighbours, dist_metric='euclidean'):\n",
    "        assert(dist_metric == 'euclidean' or dist_metric=='manhattan')\n",
    "        self.n_neighbours = n_neighbours\n",
    "        self.dist_metric = dist_metric\n",
    "    \n",
    "    def fit(self, X_train, y_train):\n",
    "        self.X_train = X_train\n",
    "        self.y_train = y_train\n",
    "\n",
    "    def predict_single_euclidean(self, x):\n",
    "        diff = self.X_train - x\n",
    "        distances = np.sqrt(np.sum(np.square(diff, diff), axis=1))\n",
    "        pairs = np.stack([distances, self.y_train], axis=1) # shape: (n_examples, 2)\n",
    "        pairs = pairs[pairs[:, 0].argsort()] # sort by distance\n",
    "        numer = np.exp(-pairs[:self.n_neighbours, 0])\n",
    "        denom = np.sum(numer)\n",
    "        label = np.sum(pairs[:self.n_neighbours, 1] * numer / denom) # for binary classification ONLY\n",
    "        return np.around(label).astype(np.int64)\n",
    "    \n",
    "    def predict_single_manhattan(self, x):\n",
    "        diff = self.X_train - x\n",
    "        distances = np.sum(np.abs(diff), axis=1)\n",
    "        pairs = np.stack([distances, self.y_train], axis=1) # shape: (n_examples, n_features)\n",
    "        pairs = pairs[pairs[:, 0].argsort()] # sort by distance\n",
    "        numer = np.exp(-pairs[:self.n_neighbours, 0])\n",
    "        denom = np.sum(numer)\n",
    "        label = np.sum(pairs[:self.n_neighbours, 1] * numer / denom) # for binary classification ONLY\n",
    "        return np.around(label).astype(np.int64)\n",
    "\n",
    "    def predict(self, X_test):\n",
    "        y_pred = []\n",
    "        if self.dist_metric == 'euclidean':\n",
    "            for x in X_test:\n",
    "                y_pred.append(self.predict_single_euclidean(x))\n",
    "        else:\n",
    "            for x in X_test:\n",
    "                y_pred.append(self.predict_single_manhattan(x))\n",
    "        return np.asarray(y_pred)           "
   ]
  },
  {
   "cell_type": "code",
   "execution_count": 103,
   "metadata": {},
   "outputs": [
    {
     "name": "stdout",
     "output_type": "stream",
     "text": [
      "[1 0 0 0 1]\n"
     ]
    }
   ],
   "source": [
    "# Running our classifier\n",
    "X_test = X[np.random.randint(X.shape[0], size=5), :]\n",
    "\n",
    "classifier = SimpleWNNClassifier(n_neighbours=3, dist_metric='manhattan')\n",
    "classifier.fit(X, y)\n",
    "print(classifier.predict(X_test))"
   ]
  },
  {
   "cell_type": "code",
   "execution_count": 105,
   "metadata": {},
   "outputs": [
    {
     "data": {
      "image/png": "[encoded data removed]",
      "text/plain": [
       "<Figure size 432x288 with 1 Axes>"
      ]
     },
     "metadata": {
      "needs_background": "light"
     },
     "output_type": "display_data"
    }
   ],
   "source": [
    "# Visualizing the classifier\n",
    "pca = PCA(n_components = 2) # note: much of the variance is lost with so few principal components\n",
    "X_new = pca.fit_transform(X)\n",
    "\n",
    "# Train classifier on transformed data\n",
    "classifier = SimpleWNNClassifier(n_neighbours=3, dist_metric='euclidean')\n",
    "classifier.fit(X_new, y)\n",
    "\n",
    "# Plot data points\n",
    "plt.plot(X_new[y==0, 0], X_new[y==0, 1], 'ro', label='y = 0')\n",
    "plt.plot(X_new[y==1, 0], X_new[y==1, 1], 'bo', label='y = 1')\n",
    "\n",
    "# Plot boundary\n",
    "X_grid1, X_grid2 = np.meshgrid(np.linspace(min(X_new[:,0])-1, max(X_new[:,0])+1, 1000), \n",
    "                               np.linspace(min(X_new[:,1])-1, max(X_new[:,1])+1, 1000))\n",
    "y_grid = classifier.predict(np.c_[X_grid1.ravel(), X_grid2.ravel()])\n",
    "\n",
    "plt.contourf(X_grid1, X_grid2, y_grid.reshape(X_grid1.shape),\n",
    "            alpha = 0.2, cmap = ListedColormap(('red', 'blue')))\n",
    "\n",
    "# Label plot\n",
    "plt.title('WNN Classifier (k=3)')\n",
    "plt.xlabel('Component 1')\n",
    "plt.ylabel('Component 2')\n",
    "plt.legend()\n",
    "plt.show()"
   ]
  },
  {
   "cell_type": "markdown",
   "metadata": {},
   "source": [
    "## 4. Weighted KNN Regressor\n",
    "___\n"
   ]
  },
  {
   "cell_type": "code",
   "execution_count": 107,
   "metadata": {},
   "outputs": [
    {
     "name": "stdout",
     "output_type": "stream",
     "text": [
      "(160, 16)\n"
     ]
    }
   ],
   "source": [
    "# dataset\n",
    "data_set = arff.loadarff('autos.arff')\n",
    "data = pd.DataFrame(data_set[0])\n",
    "    \n",
    "# Remove any categorical labels (Note: temporary as we can encode these categorical labels later)\n",
    "data.drop(['make', 'fuel-type', 'aspiration', 'num-of-doors', 'body-style', \n",
    "            'drive-wheels', 'engine-location', 'engine-type', 'num-of-cylinders', \n",
    "            'fuel-system'], axis=1, inplace=True)\n",
    "\n",
    "# Remove missing values\n",
    "filtered = data.dropna()\n",
    "print(filtered.shape)\n",
    "\n",
    "# Separate labels & x-data\n",
    "y = filtered['price'].to_numpy()\n",
    "X = filtered.drop('price', axis=1).to_numpy().astype(np.float64)"
   ]
  },
  {
   "cell_type": "code",
   "execution_count": 116,
   "metadata": {},
   "outputs": [],
   "source": [
    "# Class for simple KNN prediction\n",
    "\n",
    "class SimpleWNNRegressor:\n",
    "    def __init__(self, n_neighbours, dist_metric='euclidean'):\n",
    "        assert(dist_metric == 'euclidean' or dist_metric=='manhattan')\n",
    "        self.n_neighbours = n_neighbours\n",
    "        self.dist_metric = dist_metric\n",
    "            \n",
    "    def fit(self, X_train, y_train):\n",
    "        self.X_train = X_train\n",
    "        self.y_train = y_train\n",
    "\n",
    "    def predict_single_euclidean(self, x): # Takes advantage of matrix operations\n",
    "        diff = self.X_train - x\n",
    "        distances = np.sqrt(np.sum(np.square(diff, diff), axis=1))\n",
    "        pairs = np.stack([distances, self.y_train], axis=1) # distance and label\n",
    "        pairs = pairs[pairs[:, 0].argsort(kind='stable')] # sort by distance\n",
    "        numer = np.exp(-pairs[:self.n_neighbours, 0])\n",
    "        denom = np.sum(numer)\n",
    "        nearest = np.sum(pairs[:self.n_neighbours, 1] * numer / denom)\n",
    "        return nearest\n",
    "    \n",
    "    def predict_single_manhattan(self, x): # Takes advantage of matrix operations\n",
    "        diff = self.X_train - x\n",
    "        distances = np.sum(np.abs(diff), axis=1)\n",
    "        pairs = np.stack([distances, self.y_train], axis=1) # distance and label\n",
    "        pairs = pairs[pairs[:, 0].argsort(kind='stable')] # sort by distance\n",
    "        numer = np.exp(-pairs[:self.n_neighbours, 0])\n",
    "        denom = np.sum(numer)\n",
    "        nearest = np.sum(pairs[:self.n_neighbours, 1] * numer / denom)\n",
    "        return nearest\n",
    "    \n",
    "    def predict(self, X_test): # Matrix ops\n",
    "        y_pred = []\n",
    "        if self.dist_metric == 'euclidean':\n",
    "            for x in X_test:\n",
    "                y_pred.append(self.predict_single_euclidean(x))\n",
    "        else:\n",
    "            for x in X_test:\n",
    "                y_pred.append(self.predict_single_manhattan(x))\n",
    "        return np.asarray(y_pred)  "
   ]
  },
  {
   "cell_type": "code",
   "execution_count": 121,
   "metadata": {},
   "outputs": [
    {
     "name": "stdout",
     "output_type": "stream",
     "text": [
      "[ 8058.  6338. 20970.  9538.  9959.]\n"
     ]
    }
   ],
   "source": [
    "# Running our regressor\n",
    "X_test = X[np.random.randint(X.shape[0], size=5), :]\n",
    "\n",
    "regressor = SimpleWNNRegressor(n_neighbours=3, dist_metric='manhattan')\n",
    "regressor.fit(X, y)\n",
    "print(regressor.predict(X_test))"
   ]
  },
  {
   "cell_type": "code",
   "execution_count": 126,
   "metadata": {},
   "outputs": [
    {
     "data": {
      "image/png": "[encoded data removed]",
      "text/plain": [
       "<Figure size 432x288 with 1 Axes>"
      ]
     },
     "metadata": {
      "needs_background": "light"
     },
     "output_type": "display_data"
    }
   ],
   "source": [
    "# Visualizing the regressor\n",
    "pca = PCA(n_components = 1) # note: much of the variance is lost with so few principal components\n",
    "X_new = pca.fit_transform(X)\n",
    "\n",
    "# Train classifier on transformed data\n",
    "regressor = SimpleWNNClassifier(n_neighbours=3, dist_metric='euclidean')\n",
    "regressor.fit(X_new, y)\n",
    "\n",
    "# Plot data points\n",
    "plt.plot(X_new, y, 'ro')\n",
    "\n",
    "# Plot regression curve\n",
    "X_grid = np.linspace(min(X_new), max(X_new), 1000).reshape(-1,1)\n",
    "plt.plot(X_grid, regressor.predict(X_grid), 'b-')\n",
    "\n",
    "# Label plot\n",
    "plt.title('WNN Regressor (k=3)')\n",
    "plt.xlabel('Component 1')\n",
    "plt.ylabel('Price')\n",
    "plt.show()"
   ]
  },
  {
   "cell_type": "code",
   "execution_count": null,
   "metadata": {},
   "outputs": [],
   "source": []
  }
 ],
 "metadata": {
  "kernelspec": {
   "display_name": "Python 3",
   "language": "python",
   "name": "python3"
  },
  "language_info": {
   "codemirror_mode": {
    "name": "ipython",
    "version": 3
   },
   "file_extension": ".py",
   "mimetype": "text/x-python",
   "name": "python",
   "nbconvert_exporter": "python",
   "pygments_lexer": "ipython3",
   "version": "3.7.3"
  }
 },
 "nbformat": 4,
 "nbformat_minor": 2
}
